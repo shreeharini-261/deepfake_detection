{
 "cells": [
  {
   "cell_type": "code",
   "execution_count": 2,
   "metadata": {},
   "outputs": [
    {
     "name": "stdout",
     "output_type": "stream",
     "text": [
      "Labels saved to dataset/labels.csv\n"
     ]
    }
   ],
   "source": [
    "import os\n",
    "import pandas as pd\n",
    "\n",
    "# Define paths\n",
    "real_path = '/home/shree_xd/Documents/deepfake_detection/real'\n",
    "fake_path = '/home/shree_xd/Documents/deepfake_detection/fake'\n",
    "label_csv_path = 'dataset/labels.csv'\n",
    "\n",
    "# Create dataset directory if it doesn't exist\n",
    "os.makedirs('dataset', exist_ok=True)\n",
    "os.makedirs(real_path, exist_ok=True)\n",
    "os.makedirs(fake_path, exist_ok=True)\n",
    "\n",
    "# Create lists to store file paths and labels\n",
    "image_paths = []\n",
    "labels = []\n",
    "\n",
    "# Label real images\n",
    "for img_name in os.listdir(real_path):\n",
    "    image_paths.append(os.path.join(real_path, img_name))\n",
    "    labels.append(0)\n",
    "\n",
    "# Label fake images\n",
    "for img_name in os.listdir(fake_path):\n",
    "    image_paths.append(os.path.join(fake_path, img_name))\n",
    "    labels.append(1)\n",
    "\n",
    "# Create a DataFrame and save to CSV\n",
    "df = pd.DataFrame({'image_path': image_paths, 'label': labels})\n",
    "df.to_csv(label_csv_path, index=False)\n",
    "print(f'Labels saved to {label_csv_path}')\n"
   ]
  },
  {
   "cell_type": "code",
   "execution_count": null,
   "metadata": {},
   "outputs": [],
   "source": []
  }
 ],
 "metadata": {
  "kernelspec": {
   "display_name": "Python 3",
   "language": "python",
   "name": "python3"
  },
  "language_info": {
   "codemirror_mode": {
    "name": "ipython",
    "version": 3
   },
   "file_extension": ".py",
   "mimetype": "text/x-python",
   "name": "python",
   "nbconvert_exporter": "python",
   "pygments_lexer": "ipython3",
   "version": "3.10.12"
  }
 },
 "nbformat": 4,
 "nbformat_minor": 2
}
